{
 "metadata": {
  "language_info": {
   "codemirror_mode": {
    "name": "ipython",
    "version": 3
   },
   "file_extension": ".py",
   "mimetype": "text/x-python",
   "name": "python",
   "nbconvert_exporter": "python",
   "pygments_lexer": "ipython3",
   "version": "3.9.1-final"
  },
  "orig_nbformat": 4,
  "kernelspec": {
   "name": "python39164bit49b68e8a281b4b78a4bc9877f7b0a4db",
   "display_name": "Python 3.9.1 64-bit"
  },
  "interpreter": {
   "hash": "6a1352079606d11c621885201470cae74579ac815f1080e8510dab6caa192ea7"
  }
 },
 "nbformat": 4,
 "nbformat_minor": 2,
 "cells": [
  {
   "cell_type": "code",
   "execution_count": 12,
   "metadata": {},
   "outputs": [],
   "source": [
    "import requests\n",
    "from bs4 import BeautifulSoup"
   ]
  },
  {
   "cell_type": "code",
   "execution_count": 16,
   "metadata": {},
   "outputs": [
    {
     "name": "stdout",
     "output_type": "stream",
     "text": "Herbag Zip 31双色手提包 | Hermès - 爱马仕官网\n"
    },
    {
     "data": {
      "text/plain": "' Customization and add to cart  颜色 ,\\xa0 威尼斯深红/亮粉色/辣椒红 已选择 黑色/黑色 ,\\xa0仅在线上发售 威尼斯深红/亮粉色/辣椒红 ,\\xa0仅在线上发售配送信息在箱包类产品购买后七天内无理由退货时，产品退回所产生的运费及运输风险由您承担。您需要在客户服务人员指定的承运公司上门提货时，自行与其确认并支付相关运输及保险费用。如果您需要自行选择其他物流进行退货，爱马仕中国也将不承担退货所产生的运费及运输风险。\\n\\n\\n您理解并承诺，通过本网站购买的产品应基于合理自用的消费需求，不可意在转售，亦不得通过非正常手段抢购、刷单或干扰本网站正常运行。 您理解并同意，任何时候，一旦爱马仕发现您违反上述承诺，爱马仕有权在不另行通知您的情况下，直接采取包括但不限于冻结账户、限制购买、取消订单等措施。如需其他帮助，敬请致电爱马仕中国服务中心4000906610。加入购物袋 \\xa0  Buy with Apple Pay '"
     },
     "execution_count": 16,
     "metadata": {},
     "output_type": "execute_result"
    }
   ],
   "source": [
    "# 商品\n",
    "\n",
    "r = requests.get(\"https://www.hermes.cn/cn/zh/product/herbag-zip-31%E5%8F%8C%E8%89%B2%E6%89%8B%E6%8F%90%E5%8C%85-H082270CKAC/\")\n",
    "content = r.content\n",
    "soup = BeautifulSoup(content, 'lxml')\n",
    "print(soup.title.text)\n",
    "soup.find_all(\"form\", {\"class\": \"simple-product-selector\"})[0].text"
   ]
  },
  {
   "cell_type": "code",
   "execution_count": 17,
   "metadata": {},
   "outputs": [
    {
     "data": {
      "text/plain": "['Customization',\n 'and',\n 'add',\n 'to',\n 'cart',\n '颜色',\n ',',\n '威尼斯深红/亮粉色/辣椒红',\n '已选择',\n '黑色/黑色',\n ',',\n '仅在线上发售',\n '威尼斯深红/亮粉色/辣椒红',\n ',',\n '仅在线上发售配送信息在箱包类产品购买后七天内无理由退货时，产品退回所产生的运费及运输风险由您承担。您需要在客户服务人员指定的承运公司上门提货时，自行与其确认并支付相关运输及保险费用。如果您需要自行选择其他物流进行退货，爱马仕中国也将不承担退货所产生的运费及运输风险。',\n '您理解并承诺，通过本网站购买的产品应基于合理自用的消费需求，不可意在转售，亦不得通过非正常手段抢购、刷单或干扰本网站正常运行。',\n '您理解并同意，任何时候，一旦爱马仕发现您违反上述承诺，爱马仕有权在不另行通知您的情况下，直接采取包括但不限于冻结账户、限制购买、取消订单等措施。如需其他帮助，敬请致电爱马仕中国服务中心4000906610。加入购物袋',\n 'Buy',\n 'with',\n 'Apple',\n 'Pay']"
     },
     "execution_count": 17,
     "metadata": {},
     "output_type": "execute_result"
    }
   ],
   "source": [
    "t= soup.find_all(\"form\", {\"class\": \"simple-product-selector\"})[0].text\n",
    "t.split()\n",
    "# soup.find_all(\"div\", text=\"颜色\")"
   ]
  },
  {
   "cell_type": "code",
   "execution_count": 19,
   "metadata": {},
   "outputs": [
    {
     "ename": "IndexError",
     "evalue": "list index out of range",
     "output_type": "error",
     "traceback": [
      "\u001b[0;31m---------------------------------------------------------------------------\u001b[0m",
      "\u001b[0;31mIndexError\u001b[0m                                Traceback (most recent call last)",
      "\u001b[0;32m/var/folders/gk/jqlnxpv570zf649857jny0gc0000gn/T/ipykernel_28044/1878816022.py\u001b[0m in \u001b[0;36m<module>\u001b[0;34m\u001b[0m\n\u001b[0;32m----> 1\u001b[0;31m \u001b[0msoup\u001b[0m\u001b[0;34m.\u001b[0m\u001b[0mfind_all\u001b[0m\u001b[0;34m(\u001b[0m\u001b[0;34m\"span\"\u001b[0m\u001b[0;34m,\u001b[0m \u001b[0;34m{\u001b[0m\u001b[0;34m\"class\"\u001b[0m\u001b[0;34m:\u001b[0m \u001b[0;34m\"message-error\"\u001b[0m\u001b[0;34m}\u001b[0m\u001b[0;34m)\u001b[0m\u001b[0;34m[\u001b[0m\u001b[0;36m0\u001b[0m\u001b[0;34m]\u001b[0m\u001b[0;34m.\u001b[0m\u001b[0mtext\u001b[0m\u001b[0;34m.\u001b[0m\u001b[0mstartswith\u001b[0m\u001b[0;34m(\u001b[0m\u001b[0;34m\"抱歉！\"\u001b[0m\u001b[0;34m)\u001b[0m\u001b[0;34m\u001b[0m\u001b[0;34m\u001b[0m\u001b[0m\n\u001b[0m",
      "\u001b[0;31mIndexError\u001b[0m: list index out of range"
     ]
    }
   ],
   "source": [
    "soup.find_all(\"span\", {\"class\": \"message-error\"})[0].text.startswith(\"抱歉！\")"
   ]
  },
  {
   "cell_type": "code",
   "execution_count": 20,
   "metadata": {},
   "outputs": [
    {
     "data": {
      "text/plain": "403"
     },
     "execution_count": 20,
     "metadata": {},
     "output_type": "execute_result"
    }
   ],
   "source": [
    "\n",
    "\n",
    "# 商品\n",
    "\n",
    "r = requests.get(\"https://www.hermes.cn/cn/zh/product/pop-h%E9%A1%B9%E9%93%BE-H147992FO55/\")\n",
    "r.status_code\n",
    "# content = r.content\n",
    "# soup = BeautifulSoup(content, 'lxml')\n",
    "# print(soup.title.text)\n",
    "# soup.find_all(\"form\", {\"class\": \"simple-product-selector\"})[0].text"
   ]
  },
  {
   "cell_type": "code",
   "execution_count": 21,
   "metadata": {},
   "outputs": [],
   "source": [
    "# 项链\n",
    "r = requests.get(\"https://www.hermes.cn/cn/zh/category/%E5%A5%B3%E5%A3%AB/%E6%97%B6%E5%B0%9A%E9%A6%96%E9%A5%B0/%E9%A1%B9%E9%93%BE%E5%9D%A0%E9%A5%B0/#||%E7%B1%BB%E5%88%AB\")\n",
    "\n",
    "# 耳环\n",
    "r = requests.get(\"https://www.hermes.cn/cn/zh/category/%E5%A5%B3%E5%A3%AB/%E6%97%B6%E5%B0%9A%E9%A6%96%E9%A5%B0/%E8%80%B3%E7%8E%AF/#||%E6%9D%90%E8%B4%A8\")\n"
   ]
  },
  {
   "cell_type": "code",
   "execution_count": 22,
   "metadata": {},
   "outputs": [],
   "source": [
    "content = r.content\n",
    "soup = BeautifulSoup(content, 'lxml')"
   ]
  },
  {
   "cell_type": "code",
   "execution_count": 23,
   "metadata": {},
   "outputs": [],
   "source": [
    "soup = BeautifulSoup(content, 'lxml')"
   ]
  },
  {
   "cell_type": "code",
   "execution_count": 24,
   "metadata": {},
   "outputs": [
    {
     "data": {
      "text/plain": "35"
     },
     "execution_count": 24,
     "metadata": {},
     "output_type": "execute_result"
    }
   ],
   "source": [
    "soup.select('#grid-results-ul')[0]\n",
    "len(soup.select('#grid-results-ul')[0])"
   ]
  },
  {
   "cell_type": "code",
   "execution_count": 25,
   "metadata": {},
   "outputs": [
    {
     "data": {
      "text/plain": "72"
     },
     "execution_count": 25,
     "metadata": {},
     "output_type": "execute_result"
    }
   ],
   "source": [
    "len(soup.find_all('li'))"
   ]
  },
  {
   "cell_type": "code",
   "execution_count": 26,
   "metadata": {},
   "outputs": [
    {
     "name": "stdout",
     "output_type": "stream",
     "text": "O'Maillon耳环, 颜色:  红色 ,  ¥4,300 \nAs de Coeur耳环，小号, 颜色:  蓝色 ,  ¥4,950 \nAmulette Equestre耳环, 颜色:  未染色 ,  ¥2,600 \nAmulette Maroquinier耳环, 颜色:  未染色 ,  ¥2,600 \nO'Kelly耳环, 颜色:  黄色 ,  ¥4,300 \nO'Kelly耳环, 颜色:  黄色 ,  ¥4,300 \nO'Kelly耳环, 颜色:  玫瑰色 ,  ¥4,300 \nH Curiosite Cle耳环，小号, 颜色:  玫瑰色 ,  ¥5,800 \nO'Kelly耳环, 颜色:  玫瑰色 ,  ¥4,300 \nO'Kelly耳环, 颜色:  玫瑰色 ,  ¥4,300 \nO'Kelly耳环, 颜色:  白色 ,  ¥4,300 \nO'Kelly耳环, 颜色:  白色 ,  ¥4,300 \nGourmette Equestre耳环, 颜色:  白色 ,  ¥5,800 \nO'Kelly耳环, 颜色:  米色 ,  ¥4,300 \nO'Maillon耳环, 颜色:  米色 ,  ¥4,300 \nO'Kelly耳环, 颜色:  米色 ,  ¥4,300 \nO'Kelly耳环, 颜色:  米色 ,  ¥4,300 \nO'Kelly耳环, 颜色:  米色 ,  ¥4,300 \nO'Kelly耳环, 颜色:  米色 ,  ¥4,300 \nO'Maillon耳环, 颜色:  米色 ,  ¥4,300 \nAs de Coeur耳环，小号, 颜色:  米色 ,  ¥4,950 \nO'Maillon耳环, 颜色:  米色 ,  ¥4,300 \nO'Kelly耳环, 颜色:  米色 ,  ¥4,300 \nH Curiosite Cle耳环，小号, 颜色:  米色 ,  ¥5,800 \nAs de Coeur耳环，小号, 颜色:  米色 ,  ¥4,950 \nO'Maillon耳环, 颜色:  米色 ,  ¥4,300 \nO'Maillon耳环, 颜色:  黑色 ,  ¥4,300 \nAs de Coeur耳环，小号, 颜色:  黑色 ,  ¥4,950 \nO'Kelly耳环, 颜色:  黑色 ,  ¥4,300 \nO'Maillon耳环, 颜色:  黑色 ,  ¥4,300 \nGourmette Equestre耳环, 颜色:  黑色 ,  ¥5,800 \nO'Kelly耳环, 颜色:  黑色 ,  ¥4,300 \nO'Maillon耳环, 颜色:  蓝色 ,  ¥4,300 \n"
    }
   ],
   "source": [
    "for li in soup.find_all('li'):\n",
    "    # print(\"\\n\")\n",
    "    # print(li)\n",
    "    # print(li.get(\"_ngcontent-sc19\"))\n",
    "    if \"颜色\" in li.text:\n",
    "        print(li.text)"
   ]
  },
  {
   "cell_type": "code",
   "execution_count": null,
   "metadata": {},
   "outputs": [],
   "source": []
  }
 ]
}